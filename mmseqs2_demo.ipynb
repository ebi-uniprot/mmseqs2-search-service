{
  "metadata": {
    "kernelspec": {
      "name": "python",
      "display_name": "Python (Pyodide)",
      "language": "python"
    },
    "language_info": {
      "codemirror_mode": {
        "name": "python",
        "version": 3
      },
      "file_extension": ".py",
      "mimetype": "text/x-python",
      "name": "python",
      "nbconvert_exporter": "python",
      "pygments_lexer": "ipython3",
      "version": "3.8"
    }
  },
  "nbformat_minor": 5,
  "nbformat": 4,
  "cells": [
    {
      "id": "b12576bc-6932-4f1d-ac2e-b64df98d3883",
      "cell_type": "code",
      "source": "import pyodide_http\n\npyodide_http.patch_all()\n\nimport requests\n\nMMSEQS2_SERVICE_API = \"\"\n\n# Helper function to download data\ndef get_url(url, **kwargs):\n  response = requests.get(url, **kwargs);\n\n  if not response.ok:\n    print(response.text)\n    response.raise_for_status()\n    sys.exit()\n\n  return response",
      "metadata": {
        "trusted": true
      },
      "outputs": [],
      "execution_count": 1
    },
    {
      "id": "69363fb4-ef0f-43aa-b0ea-d98e0ac6a7f8",
      "cell_type": "raw",
      "source": "Fetch FASTA for proteins A0JNW5, O00115, P02538",
      "metadata": {}
    },
    {
      "id": "31a54c34-dff1-44cb-9046-b350317587d4",
      "cell_type": "code",
      "source": "uniprot_fasta_url = \"https://rest.uniprot.org/uniprotkb/search?format=fasta&query=accession:A0JNW5+OR+accession:O00115+OR+accession:P02538\"\nfasta_response = get_url(uniprot_fasta_url)\n\nfasta = fasta_response.text\nprint(fasta)",
      "metadata": {
        "trusted": true,
        "scrolled": true
      },
      "outputs": [
        {
          "name": "stdout",
          "output_type": "stream",
          "text": ">sp|A0JNW5|BLT3B_HUMAN Bridge-like lipid transfer protein family member 3B OS=Homo sapiens OX=9606 GN=BLTP3B PE=1 SV=2\nMAGIIKKQILKHLSRFTKNLSPDKINLSTLKGEGELKNLELDEEVLQNMLDLPTWLAINK\nVFCNKASIRIPWTKLKTHPICLSLDKVIMEMSTCEEPRSPNGPSPIATASGQSEYGFAEK\nVVEGISVSVNSIVIRIGAKAFNASFELSQLRIYSVNAHWEHGDLRFTRIQDPQRGEVLTF\nKEINWQMIRIEADATQSSHLEIMCAPVRLITNQSKIRVTLKRRLKDCNVIATKLVLILDD\nLLWVLTDSQLKAMVQYAKSLSEAIEKSTEQRKSMAPEPTQSSTVVASAQQVKTTQTSNAP\nDVNDAIVKLFNDFDVKETSHHLVISHLDLHICDDIHAKEKESNRRITGGAMQLSFTQLTI\nDYYPYHKAGDSCNHWMYFSDATKTKNGWANELLHEFECNVEMLKQAVKDHNVGSPPKSPT\nHASPQHTQTEKDYPLKGTCRTPSVLSQQSKAKLMSSSVVVRLADFNIYQVSTAEQCRSSP\nKSMICCNKKSLYLPQEMSAVYIEFTEYYYPDGKDFPIPSPNLYSQLNALQFTVDERSILW\nLNQFLLDLKQSLNQFMAVYKLNDNSKSDEHVDVRVDGLMLKFVIPSEVKSECHQDQPRAI\nSIQSSEMIATNTRHCPNCRHSDLEALFQDFKDCDFFSKTYTSFPKSCDNFNLLHPIFQRH\nAHEQDTKMHEIYKGNITPQLNKNTLKTSAATDVWAVYFSQFWIDYEGMKSGKGRPISFVD\nSFPLSIWICQPTRYAESQKEPQTCNQVSLNTSQSESSDLAGRLKRKKLLKEYYSTESEPL\nTNGGQKPSSSDTFFRFSPSSSEADIHLLVHVHKHVSMQINHYQYLLLLFLHESLILLSEN\nLRKDVEAVTGSPASQTSICIGILLRSAELALLLHPVDQANTLKSPVSESVSPVVPDYLPT\nENGDFLSSKRKQISRDINRIRSVTVNHMSDNRSMSVDLSHIPLKDPLLFKSASDTNLQKG\nISFMDYLSDKHLGKISEDESSGLVYKSGSGEIGSETSDKKDSFYTDSSSILNYREDSNIL\nSFDSDGNQNILSSTLTSKGNETIESIFKAEDLLPEAASLSENLDISKEETPPVRTLKSQS\nSLSGKPKERCPPNLAPLCVSYKNMKRSSSQMSLDTISLDSMILEEQLLESDGSDSHMFLE\nKGNKKNSTTNYRGTAESVNAGANLQNYGETSPDAISTNSEGAQENHDDLMSVVVFKITGV\nNGEIDIRGEDTEICLQVNQVTPDQLGNISLRHYLCNRPVGSDQKAVIHSKSSPEISLRFE\nSGPGAVIHSLLAEKNGFLQCHIENFSTEFLTSSLMNIQHFLEDETVATVMPMKIQVSNTK\nINLKDDSPRSSTVSLEPAPVTVHIDHLVVERSDDGSFHIRDSHMLNTGNDLKENVKSDSV\nLLTSGKYDLKKQRSVTQATQTSPGVPWPSQSANFPEFSFDFTREQLMEENESLKQELAKA\nKMALAEAHLEKDALLHHIKKMTVE\n>sp|P02538|K2C6A_HUMAN Keratin, type II cytoskeletal 6A OS=Homo sapiens OX=9606 GN=KRT6A PE=1 SV=3\nMASTSTTIRSHSSSRRGFSANSARLPGVSRSGFSSVSVSRSRGSGGLGGACGGAGFGSRS\nLYGLGGSKRISIGGGSCAISGGYGSRAGGSYGFGGAGSGFGFGGGAGIGFGLGGGAGLAG\nGFGGPGFPVCPPGGIQEVTVNQSLLTPLNLQIDPTIQRVRAEEREQIKTLNNKFASFIDK\nVRFLEQQNKVLETKWTLLQEQGTKTVRQNLEPLFEQYINNLRRQLDSIVGERGRLDSELR\nGMQDLVEDFKNKYEDEINKRTAAENEFVTLKKDVDAAYMNKVELQAKADTLTDEINFLRA\nLYDAELSQMQTHISDTSVVLSMDNNRNLDLDSIIAEVKAQYEEIAQRSRAEAESWYQTKY\nEELQVTAGRHGDDLRNTKQEIAEINRMIQRLRSEIDHVKKQCANLQAAIADAEQRGEMAL\nKDAKNKLEGLEDALQKAKQDLARLLKEYQELMNVKLALDVEIATYRKLLEGEECRLNGEG\nVGQVNISVVQSTVSSGYGGASGVGSGLGLGGGSSYSYGSGLGVGGGFSSSSGRAIGGGLS\nSVGGGSSTIKYTTTSSSSRKSYKH\n>sp|O00115|DNS2A_HUMAN Deoxyribonuclease-2-alpha OS=Homo sapiens OX=9606 GN=DNASE2 PE=1 SV=2\nMIPLLLAALLCVPAGALTCYGDSGQPVDWFVVYKLPALRGSGEAAQRGLQYKYLDESSGG\nWRDGRALINSPEGAVGRSLQPLYRSNTSQLAFLLYNDQPPQPSKAQDSSMRGHTKGVLLL\nDHDGGFWLVHSVPNFPPPASSAAYSWPHSACTYGQTLLCVSFPFAQFSKMGKQLTYTYPW\nVYNYQLEGIFAQEFPDLENVVKGHHVSQEPWNSSITLTSQAGAVFQSFAKFSKFGDDLYS\nGWLAAALGTNLQVQFWHKTVGILPSNCSDIWQVLNVNQIAFPGPAGPSFNSTEDHSKWCV\nSPKGPWTCVGDMNRNQGEEQRGGGTLCAQLPALWKAFQPLVKNYQPCNGMARKPSRAYKI\n\n"
        }
      ],
      "execution_count": 3
    },
    {
      "id": "fe2c52d2-1274-4b33-94b8-b92ff460ab99",
      "cell_type": "raw",
      "source": "Submit the FASTA to mmseqs2-service",
      "metadata": {}
    },
    {
      "id": "35e9cb94-a683-4f5b-9aa7-a5294953afbb",
      "cell_type": "code",
      "source": "submit_response = get_url(f\"{MMSEQS2_SERVICE_API}/submit?sequences={fasta}\")\n\njob_id = submit_response.job_id\n\nprint(job_id)",
      "metadata": {
        "trusted": true
      },
      "outputs": [],
      "execution_count": null
    },
    {
      "id": "df3ba517-f8b9-4754-88fd-097724a51ded",
      "cell_type": "raw",
      "source": "Use the unique job_id to query about the submitted job",
      "metadata": {}
    },
    {
      "id": "b1d2177a-073e-41d2-b257-85ec371d1024",
      "cell_type": "code",
      "source": "status_response = get_url(f\"{MMSEQS2_SERVICE_API}/status/{job_id}\")\n\nprint(status_response.status)",
      "metadata": {
        "trusted": true
      },
      "outputs": [],
      "execution_count": null
    },
    {
      "id": "16ceabe8-5269-418c-a8df-f2f3a484aa09",
      "cell_type": "raw",
      "source": "Print the raw output",
      "metadata": {}
    },
    {
      "id": "a44629b5-7a10-43a6-92c9-be1eb34d66f6",
      "cell_type": "code",
      "source": "if status_response.status == \"FINISHED\"\n    result = get_url(f\"{MMSEQS2_SERVICE_API}/results/{job_id}\")\n    print(result.text)",
      "metadata": {
        "trusted": true
      },
      "outputs": [],
      "execution_count": null
    },
    {
      "id": "721f0386-e4b4-46b2-84ef-0fb15490ea06",
      "cell_type": "raw",
      "source": "Convert the raw output into Pandas dataframe",
      "metadata": {}
    },
    {
      "id": "4c1041e8-0080-4098-bf22-ea29e6a4fdcd",
      "cell_type": "code",
      "source": "import pandas as pd\nimport io \n\ncolnames = [\n    \"query_id\",        # (1) identifier for query sequence/profile\n    \"target_id\",       # (2) identifier for target sequence/profile\n    \"identity\",        # (3) sequence identity (%)\n    \"alignment_length\",# (4) alignment length\n    \"mismatches\",      # (5) number of mismatches\n    \"gap_openings\",    # (6) number of gap openings\n    \"q_start\",         # (7) domain start in query\n    \"q_end\",           # (8) domain end in query\n    \"t_start\",         # (9) domain start in target\n    \"t_end\",           # (10) domain end in target\n    \"e_value\",         # (11) E-value\n    \"bit_score\"        # (12) bit score\n]\n\n\n# result = \"P05067\tP05067\t1.000\t770\t0\t0\t1\t770\t1\t770\t0.000E+00\t1519\"\n\ndataframe = pd.read_csv(io.StringIO(result.text), header=None, names=colnames, sep='\\t') \n\ndataframe\n",
      "metadata": {
        "trusted": true
      },
      "outputs": [
        {
          "execution_count": 8,
          "output_type": "execute_result",
          "data": {
            "text/plain": "  query_id target_id  identity  alignment_length  mismatches  gap_openings  \\\n0   P05067    P05067       1.0               770           0             0   \n\n   q_start  q_end  t_start  t_end  e_value  bit_score  \n0        1    770        1    770      0.0       1519  ",
            "text/html": "<div>\n<style scoped>\n    .dataframe tbody tr th:only-of-type {\n        vertical-align: middle;\n    }\n\n    .dataframe tbody tr th {\n        vertical-align: top;\n    }\n\n    .dataframe thead th {\n        text-align: right;\n    }\n</style>\n<table border=\"1\" class=\"dataframe\">\n  <thead>\n    <tr style=\"text-align: right;\">\n      <th></th>\n      <th>query_id</th>\n      <th>target_id</th>\n      <th>identity</th>\n      <th>alignment_length</th>\n      <th>mismatches</th>\n      <th>gap_openings</th>\n      <th>q_start</th>\n      <th>q_end</th>\n      <th>t_start</th>\n      <th>t_end</th>\n      <th>e_value</th>\n      <th>bit_score</th>\n    </tr>\n  </thead>\n  <tbody>\n    <tr>\n      <th>0</th>\n      <td>P05067</td>\n      <td>P05067</td>\n      <td>1.0</td>\n      <td>770</td>\n      <td>0</td>\n      <td>0</td>\n      <td>1</td>\n      <td>770</td>\n      <td>1</td>\n      <td>770</td>\n      <td>0.0</td>\n      <td>1519</td>\n    </tr>\n  </tbody>\n</table>\n</div>"
          },
          "metadata": {}
        }
      ],
      "execution_count": 8
    },
    {
      "id": "a9b63cd4-2309-4098-a49e-6f4c9d18aea9",
      "cell_type": "code",
      "source": "",
      "metadata": {
        "trusted": true
      },
      "outputs": [],
      "execution_count": null
    }
  ]
}